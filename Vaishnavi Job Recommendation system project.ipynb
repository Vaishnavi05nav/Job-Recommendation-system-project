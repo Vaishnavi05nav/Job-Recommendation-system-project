{
 "cells": [
  {
   "cell_type": "markdown",
   "id": "0671ea92-fba1-485b-8f06-93ed0b64c514",
   "metadata": {},
   "source": [
    "# Importing Libraries"
   ]
  },
  {
   "cell_type": "code",
   "execution_count": 7,
   "id": "2e4ced0d-9641-4a69-bee3-0d047825e364",
   "metadata": {},
   "outputs": [],
   "source": [
    "import numpy as np\n",
    "import pandas as pd"
   ]
  },
  {
   "cell_type": "markdown",
   "id": "7e6aed4d-54de-427a-bbc1-b2d479389698",
   "metadata": {},
   "source": [
    "# Loading Dataset"
   ]
  },
  {
   "cell_type": "code",
   "execution_count": 8,
   "id": "cd4c82a4-3696-485f-b3a7-33c85c6dc521",
   "metadata": {},
   "outputs": [],
   "source": [
    "job_df = pd.read_csv(r\"C:\\Users\\vnav2\\OneDrive\\Desktop\\Combined_Jobs_Final.csv\",header=0)"
   ]
  },
  {
   "cell_type": "code",
   "execution_count": 9,
   "id": "23518ca0-5458-4916-82b3-eab5ee751f23",
   "metadata": {},
   "outputs": [
    {
     "data": {
      "text/html": [
       "<div>\n",
       "<style scoped>\n",
       "    .dataframe tbody tr th:only-of-type {\n",
       "        vertical-align: middle;\n",
       "    }\n",
       "\n",
       "    .dataframe tbody tr th {\n",
       "        vertical-align: top;\n",
       "    }\n",
       "\n",
       "    .dataframe thead th {\n",
       "        text-align: right;\n",
       "    }\n",
       "</style>\n",
       "<table border=\"1\" class=\"dataframe\">\n",
       "  <thead>\n",
       "    <tr style=\"text-align: right;\">\n",
       "      <th></th>\n",
       "      <th>Job.ID</th>\n",
       "      <th>Provider</th>\n",
       "      <th>Status</th>\n",
       "      <th>Slug</th>\n",
       "      <th>Title</th>\n",
       "      <th>Position</th>\n",
       "      <th>Company</th>\n",
       "      <th>City</th>\n",
       "      <th>State.Name</th>\n",
       "      <th>State.Code</th>\n",
       "      <th>...</th>\n",
       "      <th>Industry</th>\n",
       "      <th>Job.Description</th>\n",
       "      <th>Requirements</th>\n",
       "      <th>Salary</th>\n",
       "      <th>Listing.Start</th>\n",
       "      <th>Listing.End</th>\n",
       "      <th>Employment.Type</th>\n",
       "      <th>Education.Required</th>\n",
       "      <th>Created.At</th>\n",
       "      <th>Updated.At</th>\n",
       "    </tr>\n",
       "  </thead>\n",
       "  <tbody>\n",
       "    <tr>\n",
       "      <th>0</th>\n",
       "      <td>111</td>\n",
       "      <td>1</td>\n",
       "      <td>open</td>\n",
       "      <td>palo-alto-ca-tacolicious-server</td>\n",
       "      <td>Server @ Tacolicious</td>\n",
       "      <td>Server</td>\n",
       "      <td>Tacolicious</td>\n",
       "      <td>Palo Alto</td>\n",
       "      <td>California</td>\n",
       "      <td>CA</td>\n",
       "      <td>...</td>\n",
       "      <td>Food and Beverages</td>\n",
       "      <td>Tacolicious' first Palo Alto store just opened...</td>\n",
       "      <td>NaN</td>\n",
       "      <td>8.00</td>\n",
       "      <td>NaN</td>\n",
       "      <td>NaN</td>\n",
       "      <td>Part-Time</td>\n",
       "      <td>NaN</td>\n",
       "      <td>2013-03-12 02:08:28 UTC</td>\n",
       "      <td>2014-08-16 15:35:36 UTC</td>\n",
       "    </tr>\n",
       "    <tr>\n",
       "      <th>1</th>\n",
       "      <td>113</td>\n",
       "      <td>1</td>\n",
       "      <td>open</td>\n",
       "      <td>san-francisco-ca-claude-lane-kitchen-staff-chef</td>\n",
       "      <td>Kitchen Staff/Chef @ Claude Lane</td>\n",
       "      <td>Kitchen Staff/Chef</td>\n",
       "      <td>Claude Lane</td>\n",
       "      <td>San Francisco</td>\n",
       "      <td>California</td>\n",
       "      <td>CA</td>\n",
       "      <td>...</td>\n",
       "      <td>Food and Beverages</td>\n",
       "      <td>\\r\\n\\r\\nNew French Brasserie in S.F. Financia...</td>\n",
       "      <td>NaN</td>\n",
       "      <td>0.00</td>\n",
       "      <td>NaN</td>\n",
       "      <td>NaN</td>\n",
       "      <td>Part-Time</td>\n",
       "      <td>NaN</td>\n",
       "      <td>2013-04-12 08:36:36 UTC</td>\n",
       "      <td>2014-08-16 15:35:36 UTC</td>\n",
       "    </tr>\n",
       "    <tr>\n",
       "      <th>2</th>\n",
       "      <td>117</td>\n",
       "      <td>1</td>\n",
       "      <td>open</td>\n",
       "      <td>san-francisco-ca-machka-restaurants-corp-barte...</td>\n",
       "      <td>Bartender @ Machka Restaurants Corp.</td>\n",
       "      <td>Bartender</td>\n",
       "      <td>Machka Restaurants Corp.</td>\n",
       "      <td>San Francisco</td>\n",
       "      <td>California</td>\n",
       "      <td>CA</td>\n",
       "      <td>...</td>\n",
       "      <td>Food and Beverages</td>\n",
       "      <td>We are a popular Mediterranean wine bar and re...</td>\n",
       "      <td>NaN</td>\n",
       "      <td>11.00</td>\n",
       "      <td>NaN</td>\n",
       "      <td>NaN</td>\n",
       "      <td>Part-Time</td>\n",
       "      <td>NaN</td>\n",
       "      <td>2013-07-16 09:34:10 UTC</td>\n",
       "      <td>2014-08-16 15:35:37 UTC</td>\n",
       "    </tr>\n",
       "    <tr>\n",
       "      <th>3</th>\n",
       "      <td>121</td>\n",
       "      <td>1</td>\n",
       "      <td>open</td>\n",
       "      <td>brisbane-ca-teriyaki-house-server</td>\n",
       "      <td>Server @ Teriyaki House</td>\n",
       "      <td>Server</td>\n",
       "      <td>Teriyaki House</td>\n",
       "      <td>Brisbane</td>\n",
       "      <td>California</td>\n",
       "      <td>CA</td>\n",
       "      <td>...</td>\n",
       "      <td>Food and Beverages</td>\n",
       "      <td>● Serve food/drinks to customers in a profess...</td>\n",
       "      <td>NaN</td>\n",
       "      <td>10.55</td>\n",
       "      <td>NaN</td>\n",
       "      <td>NaN</td>\n",
       "      <td>Part-Time</td>\n",
       "      <td>NaN</td>\n",
       "      <td>2013-09-04 15:40:30 UTC</td>\n",
       "      <td>2014-08-16 15:35:38 UTC</td>\n",
       "    </tr>\n",
       "    <tr>\n",
       "      <th>4</th>\n",
       "      <td>127</td>\n",
       "      <td>1</td>\n",
       "      <td>open</td>\n",
       "      <td>los-angeles-ca-rosa-mexicano-sunset-kitchen-st...</td>\n",
       "      <td>Kitchen Staff/Chef @ Rosa Mexicano - Sunset</td>\n",
       "      <td>Kitchen Staff/Chef</td>\n",
       "      <td>Rosa Mexicano - Sunset</td>\n",
       "      <td>Los Angeles</td>\n",
       "      <td>California</td>\n",
       "      <td>CA</td>\n",
       "      <td>...</td>\n",
       "      <td>Food and Beverages</td>\n",
       "      <td>Located at the heart of Hollywood, we are one ...</td>\n",
       "      <td>NaN</td>\n",
       "      <td>10.55</td>\n",
       "      <td>NaN</td>\n",
       "      <td>NaN</td>\n",
       "      <td>Part-Time</td>\n",
       "      <td>NaN</td>\n",
       "      <td>2013-07-17 15:26:18 UTC</td>\n",
       "      <td>2014-08-16 15:35:40 UTC</td>\n",
       "    </tr>\n",
       "    <tr>\n",
       "      <th>...</th>\n",
       "      <td>...</td>\n",
       "      <td>...</td>\n",
       "      <td>...</td>\n",
       "      <td>...</td>\n",
       "      <td>...</td>\n",
       "      <td>...</td>\n",
       "      <td>...</td>\n",
       "      <td>...</td>\n",
       "      <td>...</td>\n",
       "      <td>...</td>\n",
       "      <td>...</td>\n",
       "      <td>...</td>\n",
       "      <td>...</td>\n",
       "      <td>...</td>\n",
       "      <td>...</td>\n",
       "      <td>...</td>\n",
       "      <td>...</td>\n",
       "      <td>...</td>\n",
       "      <td>...</td>\n",
       "      <td>...</td>\n",
       "      <td>...</td>\n",
       "    </tr>\n",
       "    <tr>\n",
       "      <th>84085</th>\n",
       "      <td>82</td>\n",
       "      <td>1</td>\n",
       "      <td>open</td>\n",
       "      <td>san-francisco-ca-national-japanese-american-hi...</td>\n",
       "      <td>Book Keeper @ National Japanese American Histo...</td>\n",
       "      <td>Book Keeper</td>\n",
       "      <td>National Japanese American Historical Society</td>\n",
       "      <td>San Francisco</td>\n",
       "      <td>California</td>\n",
       "      <td>CA</td>\n",
       "      <td>...</td>\n",
       "      <td>Office Administration</td>\n",
       "      <td>NJAHS stands for National Japanese American Hi...</td>\n",
       "      <td>NaN</td>\n",
       "      <td>20.00</td>\n",
       "      <td>NaN</td>\n",
       "      <td>NaN</td>\n",
       "      <td>Part-Time</td>\n",
       "      <td>NaN</td>\n",
       "      <td>2013-03-20 06:35:01 UTC</td>\n",
       "      <td>2014-08-16 15:35:27 UTC</td>\n",
       "    </tr>\n",
       "    <tr>\n",
       "      <th>84086</th>\n",
       "      <td>83</td>\n",
       "      <td>1</td>\n",
       "      <td>open</td>\n",
       "      <td>larkspur-ca-emporio-rulli-kitchen-staff-chef</td>\n",
       "      <td>Kitchen Staff/Chef @ Emporio Rulli</td>\n",
       "      <td>Kitchen Staff/Chef</td>\n",
       "      <td>Emporio Rulli</td>\n",
       "      <td>Larkspur</td>\n",
       "      <td>California</td>\n",
       "      <td>CA</td>\n",
       "      <td>...</td>\n",
       "      <td>Food and Beverages</td>\n",
       "      <td>Weekend Brunch Line Cook \\r\\n● Other shifts ma...</td>\n",
       "      <td>NaN</td>\n",
       "      <td>10.55</td>\n",
       "      <td>NaN</td>\n",
       "      <td>NaN</td>\n",
       "      <td>Part-Time</td>\n",
       "      <td>NaN</td>\n",
       "      <td>2013-03-20 08:06:43 UTC</td>\n",
       "      <td>2014-08-16 15:35:27 UTC</td>\n",
       "    </tr>\n",
       "    <tr>\n",
       "      <th>84087</th>\n",
       "      <td>84</td>\n",
       "      <td>1</td>\n",
       "      <td>open</td>\n",
       "      <td>san-francisco-ca-onigilly-driver-84</td>\n",
       "      <td>Driver @ Onigilly</td>\n",
       "      <td>Driver</td>\n",
       "      <td>Onigilly</td>\n",
       "      <td>San Francisco</td>\n",
       "      <td>California</td>\n",
       "      <td>CA</td>\n",
       "      <td>...</td>\n",
       "      <td>Food and Beverages</td>\n",
       "      <td>ONIGILLY (Japanese rice ball wraps) seeks outg...</td>\n",
       "      <td>NaN</td>\n",
       "      <td>11.00</td>\n",
       "      <td>NaN</td>\n",
       "      <td>NaN</td>\n",
       "      <td>Part-Time</td>\n",
       "      <td>NaN</td>\n",
       "      <td>2013-03-12 01:47:13 UTC</td>\n",
       "      <td>2014-08-16 15:35:27 UTC</td>\n",
       "    </tr>\n",
       "    <tr>\n",
       "      <th>84088</th>\n",
       "      <td>88</td>\n",
       "      <td>1</td>\n",
       "      <td>open</td>\n",
       "      <td>san-francisco-ca-machka-restaurants-corp-line-...</td>\n",
       "      <td>Line Cook @ Machka Restaurants Corp.</td>\n",
       "      <td>Line Cook</td>\n",
       "      <td>Machka Restaurants Corp.</td>\n",
       "      <td>San Francisco</td>\n",
       "      <td>California</td>\n",
       "      <td>CA</td>\n",
       "      <td>...</td>\n",
       "      <td>Food and Beverages</td>\n",
       "      <td>We are a popular Mediterranean restaurant in F...</td>\n",
       "      <td>NaN</td>\n",
       "      <td>13.00</td>\n",
       "      <td>NaN</td>\n",
       "      <td>NaN</td>\n",
       "      <td>Part-Time</td>\n",
       "      <td>NaN</td>\n",
       "      <td>2013-07-16 08:55:22 UTC</td>\n",
       "      <td>2014-08-16 15:35:28 UTC</td>\n",
       "    </tr>\n",
       "    <tr>\n",
       "      <th>84089</th>\n",
       "      <td>92</td>\n",
       "      <td>1</td>\n",
       "      <td>open</td>\n",
       "      <td>san-jose-ca-kazoo-restaurant-cashier</td>\n",
       "      <td>Cashier @ Kazoo Restaurant</td>\n",
       "      <td>Cashier</td>\n",
       "      <td>Kazoo Restaurant</td>\n",
       "      <td>San Jose</td>\n",
       "      <td>California</td>\n",
       "      <td>CA</td>\n",
       "      <td>...</td>\n",
       "      <td>Food and Beverages</td>\n",
       "      <td>We are looking for a cashier! \\r\\n\\r\\n ● Take...</td>\n",
       "      <td>NaN</td>\n",
       "      <td>10.00</td>\n",
       "      <td>NaN</td>\n",
       "      <td>NaN</td>\n",
       "      <td>Part-Time</td>\n",
       "      <td>NaN</td>\n",
       "      <td>2013-03-27 09:35:04 UTC</td>\n",
       "      <td>2014-08-16 15:35:30 UTC</td>\n",
       "    </tr>\n",
       "  </tbody>\n",
       "</table>\n",
       "<p>84090 rows × 23 columns</p>\n",
       "</div>"
      ],
      "text/plain": [
       "       Job.ID  Provider Status  \\\n",
       "0         111         1   open   \n",
       "1         113         1   open   \n",
       "2         117         1   open   \n",
       "3         121         1   open   \n",
       "4         127         1   open   \n",
       "...       ...       ...    ...   \n",
       "84085      82         1   open   \n",
       "84086      83         1   open   \n",
       "84087      84         1   open   \n",
       "84088      88         1   open   \n",
       "84089      92         1   open   \n",
       "\n",
       "                                                    Slug  \\\n",
       "0                        palo-alto-ca-tacolicious-server   \n",
       "1        san-francisco-ca-claude-lane-kitchen-staff-chef   \n",
       "2      san-francisco-ca-machka-restaurants-corp-barte...   \n",
       "3                      brisbane-ca-teriyaki-house-server   \n",
       "4      los-angeles-ca-rosa-mexicano-sunset-kitchen-st...   \n",
       "...                                                  ...   \n",
       "84085  san-francisco-ca-national-japanese-american-hi...   \n",
       "84086       larkspur-ca-emporio-rulli-kitchen-staff-chef   \n",
       "84087                san-francisco-ca-onigilly-driver-84   \n",
       "84088  san-francisco-ca-machka-restaurants-corp-line-...   \n",
       "84089               san-jose-ca-kazoo-restaurant-cashier   \n",
       "\n",
       "                                                   Title            Position  \\\n",
       "0                                   Server @ Tacolicious              Server   \n",
       "1                       Kitchen Staff/Chef @ Claude Lane  Kitchen Staff/Chef   \n",
       "2                   Bartender @ Machka Restaurants Corp.           Bartender   \n",
       "3                                Server @ Teriyaki House              Server   \n",
       "4            Kitchen Staff/Chef @ Rosa Mexicano - Sunset  Kitchen Staff/Chef   \n",
       "...                                                  ...                 ...   \n",
       "84085  Book Keeper @ National Japanese American Histo...         Book Keeper   \n",
       "84086                 Kitchen Staff/Chef @ Emporio Rulli  Kitchen Staff/Chef   \n",
       "84087                                  Driver @ Onigilly              Driver   \n",
       "84088               Line Cook @ Machka Restaurants Corp.           Line Cook   \n",
       "84089                         Cashier @ Kazoo Restaurant             Cashier   \n",
       "\n",
       "                                             Company           City  \\\n",
       "0                                        Tacolicious      Palo Alto   \n",
       "1                                        Claude Lane  San Francisco   \n",
       "2                           Machka Restaurants Corp.  San Francisco   \n",
       "3                                     Teriyaki House       Brisbane   \n",
       "4                             Rosa Mexicano - Sunset    Los Angeles   \n",
       "...                                              ...            ...   \n",
       "84085  National Japanese American Historical Society  San Francisco   \n",
       "84086                                  Emporio Rulli       Larkspur   \n",
       "84087                                       Onigilly  San Francisco   \n",
       "84088                       Machka Restaurants Corp.  San Francisco   \n",
       "84089                               Kazoo Restaurant       San Jose   \n",
       "\n",
       "       State.Name State.Code  ...               Industry  \\\n",
       "0      California         CA  ...     Food and Beverages   \n",
       "1      California         CA  ...     Food and Beverages   \n",
       "2      California         CA  ...     Food and Beverages   \n",
       "3      California         CA  ...     Food and Beverages   \n",
       "4      California         CA  ...     Food and Beverages   \n",
       "...           ...        ...  ...                    ...   \n",
       "84085  California         CA  ...  Office Administration   \n",
       "84086  California         CA  ...     Food and Beverages   \n",
       "84087  California         CA  ...     Food and Beverages   \n",
       "84088  California         CA  ...     Food and Beverages   \n",
       "84089  California         CA  ...     Food and Beverages   \n",
       "\n",
       "                                         Job.Description  Requirements Salary  \\\n",
       "0      Tacolicious' first Palo Alto store just opened...           NaN   8.00   \n",
       "1       \\r\\n\\r\\nNew French Brasserie in S.F. Financia...           NaN   0.00   \n",
       "2      We are a popular Mediterranean wine bar and re...           NaN  11.00   \n",
       "3       ● Serve food/drinks to customers in a profess...           NaN  10.55   \n",
       "4      Located at the heart of Hollywood, we are one ...           NaN  10.55   \n",
       "...                                                  ...           ...    ...   \n",
       "84085  NJAHS stands for National Japanese American Hi...           NaN  20.00   \n",
       "84086  Weekend Brunch Line Cook \\r\\n● Other shifts ma...           NaN  10.55   \n",
       "84087  ONIGILLY (Japanese rice ball wraps) seeks outg...           NaN  11.00   \n",
       "84088  We are a popular Mediterranean restaurant in F...           NaN  13.00   \n",
       "84089   We are looking for a cashier! \\r\\n\\r\\n ● Take...           NaN  10.00   \n",
       "\n",
       "      Listing.Start  Listing.End  Employment.Type Education.Required  \\\n",
       "0               NaN          NaN        Part-Time                NaN   \n",
       "1               NaN          NaN        Part-Time                NaN   \n",
       "2               NaN          NaN        Part-Time                NaN   \n",
       "3               NaN          NaN        Part-Time                NaN   \n",
       "4               NaN          NaN        Part-Time                NaN   \n",
       "...             ...          ...              ...                ...   \n",
       "84085           NaN          NaN        Part-Time                NaN   \n",
       "84086           NaN          NaN        Part-Time                NaN   \n",
       "84087           NaN          NaN        Part-Time                NaN   \n",
       "84088           NaN          NaN        Part-Time                NaN   \n",
       "84089           NaN          NaN        Part-Time                NaN   \n",
       "\n",
       "                    Created.At               Updated.At  \n",
       "0      2013-03-12 02:08:28 UTC  2014-08-16 15:35:36 UTC  \n",
       "1      2013-04-12 08:36:36 UTC  2014-08-16 15:35:36 UTC  \n",
       "2      2013-07-16 09:34:10 UTC  2014-08-16 15:35:37 UTC  \n",
       "3      2013-09-04 15:40:30 UTC  2014-08-16 15:35:38 UTC  \n",
       "4      2013-07-17 15:26:18 UTC  2014-08-16 15:35:40 UTC  \n",
       "...                        ...                      ...  \n",
       "84085  2013-03-20 06:35:01 UTC  2014-08-16 15:35:27 UTC  \n",
       "84086  2013-03-20 08:06:43 UTC  2014-08-16 15:35:27 UTC  \n",
       "84087  2013-03-12 01:47:13 UTC  2014-08-16 15:35:27 UTC  \n",
       "84088  2013-07-16 08:55:22 UTC  2014-08-16 15:35:28 UTC  \n",
       "84089  2013-03-27 09:35:04 UTC  2014-08-16 15:35:30 UTC  \n",
       "\n",
       "[84090 rows x 23 columns]"
      ]
     },
     "execution_count": 9,
     "metadata": {},
     "output_type": "execute_result"
    }
   ],
   "source": [
    "job_df"
   ]
  },
  {
   "cell_type": "markdown",
   "id": "8e9f78f3-f184-4ea5-9cd7-3d249836ecf3",
   "metadata": {},
   "source": [
    "# The columns  describe various attributes related to a job listing or job posting. Here's an explanation of each one:\n",
    "\n",
    "1. Job.ID: A unique identifier for each job listing. This can be a numeric or alphanumeric code used to distinguish each job post.\n",
    "\n",
    "2. Provider: The entity or platform that is providing or hosting the job listing. This could refer to the job board, company, or agency that posted the job.\n",
    "\n",
    "3. Status: Indicates the current status of the job listing, such as \"open,\" \"closed,\" \"filled,\" or \"pending.\"\n",
    "\n",
    "4. Slug: A URL-friendly version of the job title or description, typically used for web pages. It's usually lowercase and contains hyphens instead of spaces (e.g., data-analyst-new-york).\n",
    "\n",
    "5. Title: The job title or position name, such as \"Data Scientist,\" \"Software Engineer,\" etc.\n",
    "\n",
    "6. Position: This could refer to the level or type of the job position, such as \"Junior,\" \"Senior,\" \"Intern,\" or \"Manager.\"\n",
    "\n",
    "7. Company: The company or organization offering the job position.\n",
    "\n",
    "8. City: The city where the job is located.\n",
    "\n",
    "9. State.Name: The name of the state or province where the job is located.\n",
    "\n",
    "10. State.Code: The abbreviated code for the state or province (e.g., \"CA\" for California, \"NY\" for New York).\n",
    "\n",
    "11. Industry: The industry or sector to which the job belongs, such as \"Technology,\" \"Healthcare,\" \"Finance,\" etc.\n",
    "\n",
    "12. Job.Description: A detailed description of the job duties, responsibilities, and expectations.\n",
    "\n",
    "13. Requirements: The qualifications or skills required for the job, such as education, experience, certifications, or technical skills.\n",
    "\n",
    "14. Salary: The compensation offered for the job position, which may include an hourly wage, annual salary, or bonus information.\n",
    "\n",
    "15. Listing.Start: The date when the job listing was posted or became active.\n",
    "\n",
    "16. Listing.End: The date when the job listing expires or is no longer available.\n",
    "\n",
    "17. Employment.Type: The type of employment, such as \"Full-time,\" \"Part-time,\" \"Contract,\" or \"Temporary.\"\n",
    "\n",
    "18. Education.Required: The minimum level of education required for the job, such as \"Bachelor's Degree,\" \"Master's Degree,\" or \"High School Diploma.\"\n",
    "\n",
    "19. Created.At: The timestamp indicating when the job listing was first created.\n",
    "\n",
    "20. Updated.At: The timestamp indicating when the job listing was last updated or modified.\n",
    "\n",
    "These columns together provide a comprehensive overview of each job listing, including its details, location, employer, requirements, and other attributes related to the job."
   ]
  },
  {
   "cell_type": "code",
   "execution_count": 10,
   "id": "d77e5604-637f-49a7-9a0f-5a0ee2a99933",
   "metadata": {},
   "outputs": [
    {
     "data": {
      "text/html": [
       "<div>\n",
       "<style scoped>\n",
       "    .dataframe tbody tr th:only-of-type {\n",
       "        vertical-align: middle;\n",
       "    }\n",
       "\n",
       "    .dataframe tbody tr th {\n",
       "        vertical-align: top;\n",
       "    }\n",
       "\n",
       "    .dataframe thead th {\n",
       "        text-align: right;\n",
       "    }\n",
       "</style>\n",
       "<table border=\"1\" class=\"dataframe\">\n",
       "  <thead>\n",
       "    <tr style=\"text-align: right;\">\n",
       "      <th></th>\n",
       "      <th>Job.ID</th>\n",
       "      <th>Provider</th>\n",
       "      <th>Status</th>\n",
       "      <th>Slug</th>\n",
       "      <th>Title</th>\n",
       "      <th>Position</th>\n",
       "      <th>Company</th>\n",
       "      <th>City</th>\n",
       "      <th>State.Name</th>\n",
       "      <th>State.Code</th>\n",
       "      <th>...</th>\n",
       "      <th>Industry</th>\n",
       "      <th>Job.Description</th>\n",
       "      <th>Requirements</th>\n",
       "      <th>Salary</th>\n",
       "      <th>Listing.Start</th>\n",
       "      <th>Listing.End</th>\n",
       "      <th>Employment.Type</th>\n",
       "      <th>Education.Required</th>\n",
       "      <th>Created.At</th>\n",
       "      <th>Updated.At</th>\n",
       "    </tr>\n",
       "  </thead>\n",
       "  <tbody>\n",
       "    <tr>\n",
       "      <th>0</th>\n",
       "      <td>111</td>\n",
       "      <td>1</td>\n",
       "      <td>open</td>\n",
       "      <td>palo-alto-ca-tacolicious-server</td>\n",
       "      <td>Server @ Tacolicious</td>\n",
       "      <td>Server</td>\n",
       "      <td>Tacolicious</td>\n",
       "      <td>Palo Alto</td>\n",
       "      <td>California</td>\n",
       "      <td>CA</td>\n",
       "      <td>...</td>\n",
       "      <td>Food and Beverages</td>\n",
       "      <td>Tacolicious' first Palo Alto store just opened...</td>\n",
       "      <td>NaN</td>\n",
       "      <td>8.0</td>\n",
       "      <td>NaN</td>\n",
       "      <td>NaN</td>\n",
       "      <td>Part-Time</td>\n",
       "      <td>NaN</td>\n",
       "      <td>2013-03-12 02:08:28 UTC</td>\n",
       "      <td>2014-08-16 15:35:36 UTC</td>\n",
       "    </tr>\n",
       "    <tr>\n",
       "      <th>1</th>\n",
       "      <td>113</td>\n",
       "      <td>1</td>\n",
       "      <td>open</td>\n",
       "      <td>san-francisco-ca-claude-lane-kitchen-staff-chef</td>\n",
       "      <td>Kitchen Staff/Chef @ Claude Lane</td>\n",
       "      <td>Kitchen Staff/Chef</td>\n",
       "      <td>Claude Lane</td>\n",
       "      <td>San Francisco</td>\n",
       "      <td>California</td>\n",
       "      <td>CA</td>\n",
       "      <td>...</td>\n",
       "      <td>Food and Beverages</td>\n",
       "      <td>\\r\\n\\r\\nNew French Brasserie in S.F. Financia...</td>\n",
       "      <td>NaN</td>\n",
       "      <td>0.0</td>\n",
       "      <td>NaN</td>\n",
       "      <td>NaN</td>\n",
       "      <td>Part-Time</td>\n",
       "      <td>NaN</td>\n",
       "      <td>2013-04-12 08:36:36 UTC</td>\n",
       "      <td>2014-08-16 15:35:36 UTC</td>\n",
       "    </tr>\n",
       "    <tr>\n",
       "      <th>2</th>\n",
       "      <td>117</td>\n",
       "      <td>1</td>\n",
       "      <td>open</td>\n",
       "      <td>san-francisco-ca-machka-restaurants-corp-barte...</td>\n",
       "      <td>Bartender @ Machka Restaurants Corp.</td>\n",
       "      <td>Bartender</td>\n",
       "      <td>Machka Restaurants Corp.</td>\n",
       "      <td>San Francisco</td>\n",
       "      <td>California</td>\n",
       "      <td>CA</td>\n",
       "      <td>...</td>\n",
       "      <td>Food and Beverages</td>\n",
       "      <td>We are a popular Mediterranean wine bar and re...</td>\n",
       "      <td>NaN</td>\n",
       "      <td>11.0</td>\n",
       "      <td>NaN</td>\n",
       "      <td>NaN</td>\n",
       "      <td>Part-Time</td>\n",
       "      <td>NaN</td>\n",
       "      <td>2013-07-16 09:34:10 UTC</td>\n",
       "      <td>2014-08-16 15:35:37 UTC</td>\n",
       "    </tr>\n",
       "  </tbody>\n",
       "</table>\n",
       "<p>3 rows × 23 columns</p>\n",
       "</div>"
      ],
      "text/plain": [
       "   Job.ID  Provider Status                                               Slug  \\\n",
       "0     111         1   open                    palo-alto-ca-tacolicious-server   \n",
       "1     113         1   open    san-francisco-ca-claude-lane-kitchen-staff-chef   \n",
       "2     117         1   open  san-francisco-ca-machka-restaurants-corp-barte...   \n",
       "\n",
       "                                  Title            Position  \\\n",
       "0                  Server @ Tacolicious              Server   \n",
       "1      Kitchen Staff/Chef @ Claude Lane  Kitchen Staff/Chef   \n",
       "2  Bartender @ Machka Restaurants Corp.           Bartender   \n",
       "\n",
       "                    Company           City  State.Name State.Code  ...  \\\n",
       "0               Tacolicious      Palo Alto  California         CA  ...   \n",
       "1               Claude Lane  San Francisco  California         CA  ...   \n",
       "2  Machka Restaurants Corp.  San Francisco  California         CA  ...   \n",
       "\n",
       "             Industry                                    Job.Description  \\\n",
       "0  Food and Beverages  Tacolicious' first Palo Alto store just opened...   \n",
       "1  Food and Beverages   \\r\\n\\r\\nNew French Brasserie in S.F. Financia...   \n",
       "2  Food and Beverages  We are a popular Mediterranean wine bar and re...   \n",
       "\n",
       "   Requirements Salary Listing.Start  Listing.End  Employment.Type  \\\n",
       "0           NaN    8.0           NaN          NaN        Part-Time   \n",
       "1           NaN    0.0           NaN          NaN        Part-Time   \n",
       "2           NaN   11.0           NaN          NaN        Part-Time   \n",
       "\n",
       "  Education.Required               Created.At               Updated.At  \n",
       "0                NaN  2013-03-12 02:08:28 UTC  2014-08-16 15:35:36 UTC  \n",
       "1                NaN  2013-04-12 08:36:36 UTC  2014-08-16 15:35:36 UTC  \n",
       "2                NaN  2013-07-16 09:34:10 UTC  2014-08-16 15:35:37 UTC  \n",
       "\n",
       "[3 rows x 23 columns]"
      ]
     },
     "execution_count": 10,
     "metadata": {},
     "output_type": "execute_result"
    }
   ],
   "source": [
    "job_df.head(3)"
   ]
  },
  {
   "cell_type": "code",
   "execution_count": 59,
   "id": "2f186780-f21f-435e-b2c4-024ded72c685",
   "metadata": {},
   "outputs": [
    {
     "data": {
      "text/plain": [
       "<bound method DataFrame.info of       Status                                              Title  \\\n",
       "64119   open                     site director knowledg univers   \n",
       "35827   open                        administr assist officeteam   \n",
       "72100   open                   account manag chi payment system   \n",
       "46355   open  outsid wholesal sale rep parttim river front c...   \n",
       "34166   open  custom servic rep help peopl hear loss captioncal   \n",
       "...      ...                                                ...   \n",
       "66282   open  sale repres sale associ entri level vector market   \n",
       "39515   open                           staff account accountemp   \n",
       "69231   open                  unarm secur offic us secur associ   \n",
       "69618   open            line cook crown plaza independ own oper   \n",
       "6144    open  kitchen manag job detail artesian hotel casino...   \n",
       "\n",
       "                                                Position  \\\n",
       "64119                                      Site Director   \n",
       "35827                           Administrative Assistant   \n",
       "72100                                    Account Manager   \n",
       "46355            Outside Wholesale Sales Rep (PART-TIME)   \n",
       "34166  Customer Service Rep- Help People with Hearing...   \n",
       "...                                                  ...   \n",
       "66282  Sales Representative / Sales Associate ( Entry...   \n",
       "39515                                   Staff Accountant   \n",
       "69231                           Unarmed Security Officer   \n",
       "69618                                          Line Cook   \n",
       "6144                         Kitchen Manager Job Details   \n",
       "\n",
       "                                                 Company  \\\n",
       "64119                                 Knowledge Universe   \n",
       "35827                                         OfficeTeam   \n",
       "72100                                CHI Payment Systems   \n",
       "46355                    River Front Chrysler Jeep Dodge   \n",
       "34166                                        CaptionCall   \n",
       "...                                                  ...   \n",
       "66282                                   Vector Marketing   \n",
       "39515                                        Accountemps   \n",
       "69231                             US Security Associates   \n",
       "69618       Crowne Plaza- Independently Owned & Operated   \n",
       "6144   The Artesian Hotel and Casino - Tradition Spirits   \n",
       "\n",
       "                                         Job.Description  \\\n",
       "64119  job summari knowledg univers ku site director ...   \n",
       "35827  ref id 03110118480classif secretaryadmin asstc...   \n",
       "72100  yoursquor energet motiv hardwork look prosper ...   \n",
       "46355  outsid wholesal sale rep job respons sale repr...   \n",
       "34166  captioncal commun assist imagin life without t...   \n",
       "...                                                  ...   \n",
       "66282  nbsp eager learn opportun whether look parttim...   \n",
       "39515  ref id02120107460classificationaccount staffco...   \n",
       "69231  direct supervis unarm secur offic respons patr...   \n",
       "69618  summari respons maintain set food product qual...   \n",
       "6144   posit descript provid overal leadership superv...   \n",
       "\n",
       "                                                 new_col  \n",
       "64119  site director knowledg univers job summari kno...  \n",
       "35827  administr assist officeteam ref id 03110118480...  \n",
       "72100  account manag chi payment system yoursquor ene...  \n",
       "46355  outsid wholesal sale rep parttim river front c...  \n",
       "34166  custom servic rep help peopl hear loss caption...  \n",
       "...                                                  ...  \n",
       "66282  sale repres sale associ entri level vector mar...  \n",
       "39515  staff account accountemp ref id02120107460clas...  \n",
       "69231  unarm secur offic us secur associ direct super...  \n",
       "69618  line cook crown plaza independ own oper summar...  \n",
       "6144   kitchen manag job detail artesian hotel casino...  \n",
       "\n",
       "[1000 rows x 6 columns]>"
      ]
     },
     "execution_count": 59,
     "metadata": {},
     "output_type": "execute_result"
    }
   ],
   "source": [
    "job_df.info"
   ]
  },
  {
   "cell_type": "code",
   "execution_count": 12,
   "id": "600207bf-22cb-4f36-a7f0-f3f6b8ec9149",
   "metadata": {},
   "outputs": [
    {
     "data": {
      "text/html": [
       "<div>\n",
       "<style scoped>\n",
       "    .dataframe tbody tr th:only-of-type {\n",
       "        vertical-align: middle;\n",
       "    }\n",
       "\n",
       "    .dataframe tbody tr th {\n",
       "        vertical-align: top;\n",
       "    }\n",
       "\n",
       "    .dataframe thead th {\n",
       "        text-align: right;\n",
       "    }\n",
       "</style>\n",
       "<table border=\"1\" class=\"dataframe\">\n",
       "  <thead>\n",
       "    <tr style=\"text-align: right;\">\n",
       "      <th></th>\n",
       "      <th>Job.ID</th>\n",
       "      <th>Provider</th>\n",
       "      <th>Status</th>\n",
       "      <th>Slug</th>\n",
       "      <th>Title</th>\n",
       "      <th>Position</th>\n",
       "      <th>Company</th>\n",
       "      <th>City</th>\n",
       "      <th>State.Name</th>\n",
       "      <th>State.Code</th>\n",
       "      <th>...</th>\n",
       "      <th>Industry</th>\n",
       "      <th>Job.Description</th>\n",
       "      <th>Requirements</th>\n",
       "      <th>Salary</th>\n",
       "      <th>Listing.Start</th>\n",
       "      <th>Listing.End</th>\n",
       "      <th>Employment.Type</th>\n",
       "      <th>Education.Required</th>\n",
       "      <th>Created.At</th>\n",
       "      <th>Updated.At</th>\n",
       "    </tr>\n",
       "  </thead>\n",
       "  <tbody>\n",
       "    <tr>\n",
       "      <th>84087</th>\n",
       "      <td>84</td>\n",
       "      <td>1</td>\n",
       "      <td>open</td>\n",
       "      <td>san-francisco-ca-onigilly-driver-84</td>\n",
       "      <td>Driver @ Onigilly</td>\n",
       "      <td>Driver</td>\n",
       "      <td>Onigilly</td>\n",
       "      <td>San Francisco</td>\n",
       "      <td>California</td>\n",
       "      <td>CA</td>\n",
       "      <td>...</td>\n",
       "      <td>Food and Beverages</td>\n",
       "      <td>ONIGILLY (Japanese rice ball wraps) seeks outg...</td>\n",
       "      <td>NaN</td>\n",
       "      <td>11.0</td>\n",
       "      <td>NaN</td>\n",
       "      <td>NaN</td>\n",
       "      <td>Part-Time</td>\n",
       "      <td>NaN</td>\n",
       "      <td>2013-03-12 01:47:13 UTC</td>\n",
       "      <td>2014-08-16 15:35:27 UTC</td>\n",
       "    </tr>\n",
       "    <tr>\n",
       "      <th>84088</th>\n",
       "      <td>88</td>\n",
       "      <td>1</td>\n",
       "      <td>open</td>\n",
       "      <td>san-francisco-ca-machka-restaurants-corp-line-...</td>\n",
       "      <td>Line Cook @ Machka Restaurants Corp.</td>\n",
       "      <td>Line Cook</td>\n",
       "      <td>Machka Restaurants Corp.</td>\n",
       "      <td>San Francisco</td>\n",
       "      <td>California</td>\n",
       "      <td>CA</td>\n",
       "      <td>...</td>\n",
       "      <td>Food and Beverages</td>\n",
       "      <td>We are a popular Mediterranean restaurant in F...</td>\n",
       "      <td>NaN</td>\n",
       "      <td>13.0</td>\n",
       "      <td>NaN</td>\n",
       "      <td>NaN</td>\n",
       "      <td>Part-Time</td>\n",
       "      <td>NaN</td>\n",
       "      <td>2013-07-16 08:55:22 UTC</td>\n",
       "      <td>2014-08-16 15:35:28 UTC</td>\n",
       "    </tr>\n",
       "    <tr>\n",
       "      <th>84089</th>\n",
       "      <td>92</td>\n",
       "      <td>1</td>\n",
       "      <td>open</td>\n",
       "      <td>san-jose-ca-kazoo-restaurant-cashier</td>\n",
       "      <td>Cashier @ Kazoo Restaurant</td>\n",
       "      <td>Cashier</td>\n",
       "      <td>Kazoo Restaurant</td>\n",
       "      <td>San Jose</td>\n",
       "      <td>California</td>\n",
       "      <td>CA</td>\n",
       "      <td>...</td>\n",
       "      <td>Food and Beverages</td>\n",
       "      <td>We are looking for a cashier! \\r\\n\\r\\n ● Take...</td>\n",
       "      <td>NaN</td>\n",
       "      <td>10.0</td>\n",
       "      <td>NaN</td>\n",
       "      <td>NaN</td>\n",
       "      <td>Part-Time</td>\n",
       "      <td>NaN</td>\n",
       "      <td>2013-03-27 09:35:04 UTC</td>\n",
       "      <td>2014-08-16 15:35:30 UTC</td>\n",
       "    </tr>\n",
       "  </tbody>\n",
       "</table>\n",
       "<p>3 rows × 23 columns</p>\n",
       "</div>"
      ],
      "text/plain": [
       "       Job.ID  Provider Status  \\\n",
       "84087      84         1   open   \n",
       "84088      88         1   open   \n",
       "84089      92         1   open   \n",
       "\n",
       "                                                    Slug  \\\n",
       "84087                san-francisco-ca-onigilly-driver-84   \n",
       "84088  san-francisco-ca-machka-restaurants-corp-line-...   \n",
       "84089               san-jose-ca-kazoo-restaurant-cashier   \n",
       "\n",
       "                                      Title   Position  \\\n",
       "84087                     Driver @ Onigilly     Driver   \n",
       "84088  Line Cook @ Machka Restaurants Corp.  Line Cook   \n",
       "84089            Cashier @ Kazoo Restaurant    Cashier   \n",
       "\n",
       "                        Company           City  State.Name State.Code  ...  \\\n",
       "84087                  Onigilly  San Francisco  California         CA  ...   \n",
       "84088  Machka Restaurants Corp.  San Francisco  California         CA  ...   \n",
       "84089          Kazoo Restaurant       San Jose  California         CA  ...   \n",
       "\n",
       "                 Industry                                    Job.Description  \\\n",
       "84087  Food and Beverages  ONIGILLY (Japanese rice ball wraps) seeks outg...   \n",
       "84088  Food and Beverages  We are a popular Mediterranean restaurant in F...   \n",
       "84089  Food and Beverages   We are looking for a cashier! \\r\\n\\r\\n ● Take...   \n",
       "\n",
       "       Requirements Salary Listing.Start  Listing.End  Employment.Type  \\\n",
       "84087           NaN   11.0           NaN          NaN        Part-Time   \n",
       "84088           NaN   13.0           NaN          NaN        Part-Time   \n",
       "84089           NaN   10.0           NaN          NaN        Part-Time   \n",
       "\n",
       "      Education.Required               Created.At               Updated.At  \n",
       "84087                NaN  2013-03-12 01:47:13 UTC  2014-08-16 15:35:27 UTC  \n",
       "84088                NaN  2013-07-16 08:55:22 UTC  2014-08-16 15:35:28 UTC  \n",
       "84089                NaN  2013-03-27 09:35:04 UTC  2014-08-16 15:35:30 UTC  \n",
       "\n",
       "[3 rows x 23 columns]"
      ]
     },
     "execution_count": 12,
     "metadata": {},
     "output_type": "execute_result"
    }
   ],
   "source": [
    "job_df.tail(3)"
   ]
  },
  {
   "cell_type": "code",
   "execution_count": 13,
   "id": "26afd687-a778-49f4-8e1b-edb159b19199",
   "metadata": {},
   "outputs": [
    {
     "data": {
      "text/html": [
       "<div>\n",
       "<style scoped>\n",
       "    .dataframe tbody tr th:only-of-type {\n",
       "        vertical-align: middle;\n",
       "    }\n",
       "\n",
       "    .dataframe tbody tr th {\n",
       "        vertical-align: top;\n",
       "    }\n",
       "\n",
       "    .dataframe thead th {\n",
       "        text-align: right;\n",
       "    }\n",
       "</style>\n",
       "<table border=\"1\" class=\"dataframe\">\n",
       "  <thead>\n",
       "    <tr style=\"text-align: right;\">\n",
       "      <th></th>\n",
       "      <th>Title</th>\n",
       "      <th>Job.Description</th>\n",
       "    </tr>\n",
       "  </thead>\n",
       "  <tbody>\n",
       "    <tr>\n",
       "      <th>0</th>\n",
       "      <td>Server @ Tacolicious</td>\n",
       "      <td>Tacolicious' first Palo Alto store just opened...</td>\n",
       "    </tr>\n",
       "    <tr>\n",
       "      <th>1</th>\n",
       "      <td>Kitchen Staff/Chef @ Claude Lane</td>\n",
       "      <td>\\r\\n\\r\\nNew French Brasserie in S.F. Financia...</td>\n",
       "    </tr>\n",
       "    <tr>\n",
       "      <th>2</th>\n",
       "      <td>Bartender @ Machka Restaurants Corp.</td>\n",
       "      <td>We are a popular Mediterranean wine bar and re...</td>\n",
       "    </tr>\n",
       "    <tr>\n",
       "      <th>3</th>\n",
       "      <td>Server @ Teriyaki House</td>\n",
       "      <td>● Serve food/drinks to customers in a profess...</td>\n",
       "    </tr>\n",
       "    <tr>\n",
       "      <th>4</th>\n",
       "      <td>Kitchen Staff/Chef @ Rosa Mexicano - Sunset</td>\n",
       "      <td>Located at the heart of Hollywood, we are one ...</td>\n",
       "    </tr>\n",
       "    <tr>\n",
       "      <th>...</th>\n",
       "      <td>...</td>\n",
       "      <td>...</td>\n",
       "    </tr>\n",
       "    <tr>\n",
       "      <th>84085</th>\n",
       "      <td>Book Keeper @ National Japanese American Histo...</td>\n",
       "      <td>NJAHS stands for National Japanese American Hi...</td>\n",
       "    </tr>\n",
       "    <tr>\n",
       "      <th>84086</th>\n",
       "      <td>Kitchen Staff/Chef @ Emporio Rulli</td>\n",
       "      <td>Weekend Brunch Line Cook \\r\\n● Other shifts ma...</td>\n",
       "    </tr>\n",
       "    <tr>\n",
       "      <th>84087</th>\n",
       "      <td>Driver @ Onigilly</td>\n",
       "      <td>ONIGILLY (Japanese rice ball wraps) seeks outg...</td>\n",
       "    </tr>\n",
       "    <tr>\n",
       "      <th>84088</th>\n",
       "      <td>Line Cook @ Machka Restaurants Corp.</td>\n",
       "      <td>We are a popular Mediterranean restaurant in F...</td>\n",
       "    </tr>\n",
       "    <tr>\n",
       "      <th>84089</th>\n",
       "      <td>Cashier @ Kazoo Restaurant</td>\n",
       "      <td>We are looking for a cashier! \\r\\n\\r\\n ● Take...</td>\n",
       "    </tr>\n",
       "  </tbody>\n",
       "</table>\n",
       "<p>84090 rows × 2 columns</p>\n",
       "</div>"
      ],
      "text/plain": [
       "                                                   Title  \\\n",
       "0                                   Server @ Tacolicious   \n",
       "1                       Kitchen Staff/Chef @ Claude Lane   \n",
       "2                   Bartender @ Machka Restaurants Corp.   \n",
       "3                                Server @ Teriyaki House   \n",
       "4            Kitchen Staff/Chef @ Rosa Mexicano - Sunset   \n",
       "...                                                  ...   \n",
       "84085  Book Keeper @ National Japanese American Histo...   \n",
       "84086                 Kitchen Staff/Chef @ Emporio Rulli   \n",
       "84087                                  Driver @ Onigilly   \n",
       "84088               Line Cook @ Machka Restaurants Corp.   \n",
       "84089                         Cashier @ Kazoo Restaurant   \n",
       "\n",
       "                                         Job.Description  \n",
       "0      Tacolicious' first Palo Alto store just opened...  \n",
       "1       \\r\\n\\r\\nNew French Brasserie in S.F. Financia...  \n",
       "2      We are a popular Mediterranean wine bar and re...  \n",
       "3       ● Serve food/drinks to customers in a profess...  \n",
       "4      Located at the heart of Hollywood, we are one ...  \n",
       "...                                                  ...  \n",
       "84085  NJAHS stands for National Japanese American Hi...  \n",
       "84086  Weekend Brunch Line Cook \\r\\n● Other shifts ma...  \n",
       "84087  ONIGILLY (Japanese rice ball wraps) seeks outg...  \n",
       "84088  We are a popular Mediterranean restaurant in F...  \n",
       "84089   We are looking for a cashier! \\r\\n\\r\\n ● Take...  \n",
       "\n",
       "[84090 rows x 2 columns]"
      ]
     },
     "execution_count": 13,
     "metadata": {},
     "output_type": "execute_result"
    }
   ],
   "source": [
    "job_df[['Title','Job.Description']]"
   ]
  },
  {
   "cell_type": "markdown",
   "id": "acadb79b-647d-4215-b93d-ca32551d0829",
   "metadata": {},
   "source": [
    "### job_df: This is your DataFrame, which likely contains various job-related information.\n",
    "\n",
    "[['Title', 'Job.Description']]: This is a list of column names you want to extract from the DataFrame. In this case, the selected columns are:\n",
    "\n",
    "'Title': Likely refers to the job title (e.g., Software Engineer, Data Scientist, etc.).\n",
    "'Job.Description': Likely contains the job description text detailing the responsibilities, qualifications, and other aspects of the job."
   ]
  },
  {
   "cell_type": "code",
   "execution_count": 14,
   "id": "205eefc7-a98b-453e-9055-c916f02f846e",
   "metadata": {},
   "outputs": [
    {
     "data": {
      "text/html": [
       "<div>\n",
       "<style scoped>\n",
       "    .dataframe tbody tr th:only-of-type {\n",
       "        vertical-align: middle;\n",
       "    }\n",
       "\n",
       "    .dataframe tbody tr th {\n",
       "        vertical-align: top;\n",
       "    }\n",
       "\n",
       "    .dataframe thead th {\n",
       "        text-align: right;\n",
       "    }\n",
       "</style>\n",
       "<table border=\"1\" class=\"dataframe\">\n",
       "  <thead>\n",
       "    <tr style=\"text-align: right;\">\n",
       "      <th></th>\n",
       "      <th>Job.ID</th>\n",
       "      <th>Provider</th>\n",
       "      <th>Status</th>\n",
       "      <th>Slug</th>\n",
       "      <th>Title</th>\n",
       "      <th>Position</th>\n",
       "      <th>Company</th>\n",
       "      <th>City</th>\n",
       "      <th>State.Name</th>\n",
       "      <th>State.Code</th>\n",
       "      <th>...</th>\n",
       "      <th>Industry</th>\n",
       "      <th>Job.Description</th>\n",
       "      <th>Requirements</th>\n",
       "      <th>Salary</th>\n",
       "      <th>Listing.Start</th>\n",
       "      <th>Listing.End</th>\n",
       "      <th>Employment.Type</th>\n",
       "      <th>Education.Required</th>\n",
       "      <th>Created.At</th>\n",
       "      <th>Updated.At</th>\n",
       "    </tr>\n",
       "  </thead>\n",
       "  <tbody>\n",
       "    <tr>\n",
       "      <th>0</th>\n",
       "      <td>111</td>\n",
       "      <td>1</td>\n",
       "      <td>open</td>\n",
       "      <td>palo-alto-ca-tacolicious-server</td>\n",
       "      <td>Server @ Tacolicious</td>\n",
       "      <td>Server</td>\n",
       "      <td>Tacolicious</td>\n",
       "      <td>Palo Alto</td>\n",
       "      <td>California</td>\n",
       "      <td>CA</td>\n",
       "      <td>...</td>\n",
       "      <td>Food and Beverages</td>\n",
       "      <td>Tacolicious' first Palo Alto store just opened...</td>\n",
       "      <td>NaN</td>\n",
       "      <td>8.0</td>\n",
       "      <td>NaN</td>\n",
       "      <td>NaN</td>\n",
       "      <td>Part-Time</td>\n",
       "      <td>NaN</td>\n",
       "      <td>2013-03-12 02:08:28 UTC</td>\n",
       "      <td>2014-08-16 15:35:36 UTC</td>\n",
       "    </tr>\n",
       "    <tr>\n",
       "      <th>1</th>\n",
       "      <td>113</td>\n",
       "      <td>1</td>\n",
       "      <td>open</td>\n",
       "      <td>san-francisco-ca-claude-lane-kitchen-staff-chef</td>\n",
       "      <td>Kitchen Staff/Chef @ Claude Lane</td>\n",
       "      <td>Kitchen Staff/Chef</td>\n",
       "      <td>Claude Lane</td>\n",
       "      <td>San Francisco</td>\n",
       "      <td>California</td>\n",
       "      <td>CA</td>\n",
       "      <td>...</td>\n",
       "      <td>Food and Beverages</td>\n",
       "      <td>\\r\\n\\r\\nNew French Brasserie in S.F. Financia...</td>\n",
       "      <td>NaN</td>\n",
       "      <td>0.0</td>\n",
       "      <td>NaN</td>\n",
       "      <td>NaN</td>\n",
       "      <td>Part-Time</td>\n",
       "      <td>NaN</td>\n",
       "      <td>2013-04-12 08:36:36 UTC</td>\n",
       "      <td>2014-08-16 15:35:36 UTC</td>\n",
       "    </tr>\n",
       "    <tr>\n",
       "      <th>2</th>\n",
       "      <td>117</td>\n",
       "      <td>1</td>\n",
       "      <td>open</td>\n",
       "      <td>san-francisco-ca-machka-restaurants-corp-barte...</td>\n",
       "      <td>Bartender @ Machka Restaurants Corp.</td>\n",
       "      <td>Bartender</td>\n",
       "      <td>Machka Restaurants Corp.</td>\n",
       "      <td>San Francisco</td>\n",
       "      <td>California</td>\n",
       "      <td>CA</td>\n",
       "      <td>...</td>\n",
       "      <td>Food and Beverages</td>\n",
       "      <td>We are a popular Mediterranean wine bar and re...</td>\n",
       "      <td>NaN</td>\n",
       "      <td>11.0</td>\n",
       "      <td>NaN</td>\n",
       "      <td>NaN</td>\n",
       "      <td>Part-Time</td>\n",
       "      <td>NaN</td>\n",
       "      <td>2013-07-16 09:34:10 UTC</td>\n",
       "      <td>2014-08-16 15:35:37 UTC</td>\n",
       "    </tr>\n",
       "  </tbody>\n",
       "</table>\n",
       "<p>3 rows × 23 columns</p>\n",
       "</div>"
      ],
      "text/plain": [
       "   Job.ID  Provider Status                                               Slug  \\\n",
       "0     111         1   open                    palo-alto-ca-tacolicious-server   \n",
       "1     113         1   open    san-francisco-ca-claude-lane-kitchen-staff-chef   \n",
       "2     117         1   open  san-francisco-ca-machka-restaurants-corp-barte...   \n",
       "\n",
       "                                  Title            Position  \\\n",
       "0                  Server @ Tacolicious              Server   \n",
       "1      Kitchen Staff/Chef @ Claude Lane  Kitchen Staff/Chef   \n",
       "2  Bartender @ Machka Restaurants Corp.           Bartender   \n",
       "\n",
       "                    Company           City  State.Name State.Code  ...  \\\n",
       "0               Tacolicious      Palo Alto  California         CA  ...   \n",
       "1               Claude Lane  San Francisco  California         CA  ...   \n",
       "2  Machka Restaurants Corp.  San Francisco  California         CA  ...   \n",
       "\n",
       "             Industry                                    Job.Description  \\\n",
       "0  Food and Beverages  Tacolicious' first Palo Alto store just opened...   \n",
       "1  Food and Beverages   \\r\\n\\r\\nNew French Brasserie in S.F. Financia...   \n",
       "2  Food and Beverages  We are a popular Mediterranean wine bar and re...   \n",
       "\n",
       "   Requirements Salary Listing.Start  Listing.End  Employment.Type  \\\n",
       "0           NaN    8.0           NaN          NaN        Part-Time   \n",
       "1           NaN    0.0           NaN          NaN        Part-Time   \n",
       "2           NaN   11.0           NaN          NaN        Part-Time   \n",
       "\n",
       "  Education.Required               Created.At               Updated.At  \n",
       "0                NaN  2013-03-12 02:08:28 UTC  2014-08-16 15:35:36 UTC  \n",
       "1                NaN  2013-04-12 08:36:36 UTC  2014-08-16 15:35:36 UTC  \n",
       "2                NaN  2013-07-16 09:34:10 UTC  2014-08-16 15:35:37 UTC  \n",
       "\n",
       "[3 rows x 23 columns]"
      ]
     },
     "execution_count": 14,
     "metadata": {},
     "output_type": "execute_result"
    }
   ],
   "source": [
    "job_df.head(3)"
   ]
  },
  {
   "cell_type": "code",
   "execution_count": 15,
   "id": "03524d80-53b5-4cf3-b0b1-512ef93c40f7",
   "metadata": {},
   "outputs": [
    {
     "data": {
      "text/plain": [
       "0                                     Server @ Tacolicious\n",
       "1                         Kitchen Staff/Chef @ Claude Lane\n",
       "2                     Bartender @ Machka Restaurants Corp.\n",
       "3                                  Server @ Teriyaki House\n",
       "4              Kitchen Staff/Chef @ Rosa Mexicano - Sunset\n",
       "                               ...                        \n",
       "84085    Book Keeper @ National Japanese American Histo...\n",
       "84086                   Kitchen Staff/Chef @ Emporio Rulli\n",
       "84087                                    Driver @ Onigilly\n",
       "84088                 Line Cook @ Machka Restaurants Corp.\n",
       "84089                           Cashier @ Kazoo Restaurant\n",
       "Name: Title, Length: 84090, dtype: object"
      ]
     },
     "execution_count": 15,
     "metadata": {},
     "output_type": "execute_result"
    }
   ],
   "source": [
    "job_df['Title']"
   ]
  },
  {
   "cell_type": "code",
   "execution_count": 16,
   "id": "d37eb65d-ac32-4078-bba4-741b2089ecb9",
   "metadata": {},
   "outputs": [
    {
     "name": "stdout",
     "output_type": "stream",
     "text": [
      "84090\n",
      "84090\n"
     ]
    }
   ],
   "source": [
    "print(len(job_df))\n",
    "job_df = job_df[['Status', 'Title', 'Position', 'Company', 'Job.Description']]\n",
    "print(len(job_df))"
   ]
  },
  {
   "cell_type": "markdown",
   "id": "6adc8c60-ae05-4887-9539-cfb26137f773",
   "metadata": {},
   "source": [
    "The first print(len(job_df)) prints the number of rows in the original job_df DataFrame.  \n",
    "The second print(len(job_df)) prints the number of rows again after selecting specific columns.  \n",
    "If no rows were removed during the column selection, the output of both print(len(job_df)) calls will be the same."
   ]
  },
  {
   "cell_type": "code",
   "execution_count": 17,
   "id": "a478bda6-cf83-4173-a7a4-e3302623a17a",
   "metadata": {},
   "outputs": [
    {
     "data": {
      "text/plain": [
       "(84090, 5)"
      ]
     },
     "execution_count": 17,
     "metadata": {},
     "output_type": "execute_result"
    }
   ],
   "source": [
    "job_df.shape"
   ]
  },
  {
   "cell_type": "markdown",
   "id": "81a08722-eb82-4486-a614-8de7ca6f5a7e",
   "metadata": {},
   "source": [
    "#### Total 84090 rows and 5 col found in our dataset"
   ]
  },
  {
   "cell_type": "code",
   "execution_count": 18,
   "id": "12553c1b-de93-4be3-b9e0-1f3d1074d9bc",
   "metadata": {},
   "outputs": [
    {
     "data": {
      "text/plain": [
       "' \\r\\n\\r\\nNew French Brasserie in S.F. Financial District Seeks Chef\\r\\nWe are seeking an energetic, dynamic chef to take charge and grow with our company. Our ideal candidate is a motivated self-starter, has a great work ethic and is ready for the challenge of building their own team with executive support. \\r\\n\\r\\nThis position is a perfect fit for a talented chef ready to take the next step, someone who can multi task in a high volume kitchen and has exceptional organizational skills. Position requirements are experience with French cuisine, a minimum of 5 years as a sous chef in high volume, full service restaurant. He or she must be a team player, leading by example and working side by side with other members of the team. \\r\\n\\r\\nComputer and management skills are a must, as are experience in ordering, inventory and cost control. The right candidate will have previously demonstrated an understanding of leadership and accountability, and an infectious, energetic approach to problem solving and facing challenges. \\r\\n\\r\\nWe are an equal opportunity employer. Qualified applicants are considered for employment without regard to age, race, religion, sex, national origin, sexual orientation, disability, or veteran status. \\r\\n'"
      ]
     },
     "execution_count": 18,
     "metadata": {},
     "output_type": "execute_result"
    }
   ],
   "source": [
    "job_df['Job.Description'][1]"
   ]
  },
  {
   "cell_type": "markdown",
   "id": "c1f28dde-877e-449e-9bf7-4ba3b4bcda65",
   "metadata": {},
   "source": [
    "#### job_df['Job.Description'][1] will return the second job description in the DataFrame, assuming the DataFrame is indexed from 0 to N."
   ]
  },
  {
   "cell_type": "markdown",
   "id": "6687df94-97c5-4a0a-bccf-8b7dc980c171",
   "metadata": {},
   "source": [
    "# NLTK"
   ]
  },
  {
   "cell_type": "code",
   "execution_count": 19,
   "id": "1ba4a91b-2a90-4295-8438-b6b242c2f682",
   "metadata": {},
   "outputs": [],
   "source": [
    "from nltk.corpus import stopwords\n",
    "import nltk\n",
    "import re\n",
    "from nltk.stem.porter import PorterStemmer\n",
    "ps = PorterStemmer()\n",
    "\n"
   ]
  },
  {
   "cell_type": "markdown",
   "id": "dff4768f-c73c-4514-9f25-9017a1ad8add",
   "metadata": {},
   "source": [
    "#### The code imports useful tools from NLTK for text processing, such as stopwords removal, stemming, and regular expressions.\n",
    "The PorterStemmer is used to reduce words to their root form, which helps simplify and standardize the text for further analysis, such as text classification or sentiment analysis."
   ]
  },
  {
   "cell_type": "markdown",
   "id": "11e7a71d-3c07-4178-b3ce-04158d13ea52",
   "metadata": {},
   "source": [
    "# Data Cleaning"
   ]
  },
  {
   "cell_type": "code",
   "execution_count": 20,
   "id": "3eb55e40-76c0-4aea-92ee-0d024590b97b",
   "metadata": {},
   "outputs": [],
   "source": [
    "def cleaning (txt):\n",
    "    cleanned_txt = re.sub(r'[^a-zA-Z0-9\\s]','',txt)\n",
    "    tokens=nltk.word_tokenize(cleanned_txt.lower())\n",
    "    return cleanned_txt\n",
    "                          "
   ]
  },
  {
   "cell_type": "code",
   "execution_count": 21,
   "id": "76f9325a-7cbb-4410-a12a-b9636d21b6d0",
   "metadata": {},
   "outputs": [
    {
     "data": {
      "text/plain": [
       "'this is my book with 0987 digits and \\n\\n\\r '"
      ]
     },
     "execution_count": 21,
     "metadata": {},
     "output_type": "execute_result"
    }
   ],
   "source": [
    "cleaning('this is my book with 0987 digits and \\n\\n\\r &^%')"
   ]
  },
  {
   "cell_type": "code",
   "execution_count": 22,
   "id": "19616f09-a8d5-419c-a764-78e0877aaf1e",
   "metadata": {},
   "outputs": [
    {
     "name": "stdout",
     "output_type": "stream",
     "text": [
      "['book', '0987', 'digit', 'love', 'move', 'driven']\n"
     ]
    }
   ],
   "source": [
    "def cleaning(txt):\n",
    "    # Remove non-alphanumeric characters\n",
    "    cleaned_txt = re.sub(r'[^a-zA-Z0-9\\s]', '', txt)\n",
    "    \n",
    "    # Tokenize the text\n",
    "    tokens = nltk.word_tokenize(cleaned_txt.lower())\n",
    "    \n",
    "    # Initialize the stemmer\n",
    "    ps = PorterStemmer()\n",
    "\n",
    "    # Remove stopwords and apply stemming\n",
    "    stemmed_words = [ps.stem(word) for word in tokens if word not in stopwords.words('english')]\n",
    "    \n",
    "    return stemmed_words\n",
    "    \n",
    "    # Combine the stemmed words into a single string\n",
    "    result = \" \".join(stemmed_words)\n",
    "    \n",
    "    return result\n",
    "\n",
    "# Test the function\n",
    "result = cleaning('this is my book with 0987 digits loving moving driven and \\n\\n\\r &^%')\n",
    "print(result)"
   ]
  },
  {
   "cell_type": "code",
   "execution_count": 23,
   "id": "b44c9f3a-f228-46d7-85b9-f8d0ea9ec1cb",
   "metadata": {},
   "outputs": [
    {
     "name": "stdout",
     "output_type": "stream",
     "text": [
      "book 0987 digit love move driven\n"
     ]
    },
    {
     "name": "stderr",
     "output_type": "stream",
     "text": [
      "[nltk_data] Downloading package punkt to\n",
      "[nltk_data]     C:\\Users\\vnav2\\AppData\\Roaming\\nltk_data...\n",
      "[nltk_data]   Package punkt is already up-to-date!\n",
      "[nltk_data] Downloading package stopwords to\n",
      "[nltk_data]     C:\\Users\\vnav2\\AppData\\Roaming\\nltk_data...\n",
      "[nltk_data]   Package stopwords is already up-to-date!\n"
     ]
    }
   ],
   "source": [
    "import re\n",
    "import nltk\n",
    "from nltk.corpus import stopwords\n",
    "from nltk.stem import PorterStemmer\n",
    "\n",
    "# Downloading necessary NLTK data\n",
    "nltk.download('punkt')\n",
    "nltk.download('stopwords')\n",
    "\n",
    "def cleaning(txt):\n",
    "    # Remove non-alphanumeric characters\n",
    "    cleaned_txt = re.sub(r'[^a-zA-Z0-9\\s]', '', txt)\n",
    "    \n",
    "    # Tokenize the text\n",
    "    tokens = nltk.word_tokenize(cleaned_txt.lower())\n",
    "    \n",
    "    # Initialize the stemmer\n",
    "    ps = PorterStemmer()\n",
    "    \n",
    "    # Remove stopwords and apply stemming\n",
    "    stemmed_words = [ps.stem(word) for word in tokens if word not in stopwords.words('english')]\n",
    "    \n",
    "    # Combine the stemmed words into a single string\n",
    "    result = ' '.join(stemmed_words)  # Convert list to string\n",
    "    \n",
    "    return result\n",
    "\n",
    "# Test the function\n",
    "result = cleaning('this is my book with 0987 digits loving moving driven and \\n\\n\\r &^%')\n",
    "print(result)"
   ]
  },
  {
   "cell_type": "code",
   "execution_count": 24,
   "id": "96a83620-de35-48dd-81aa-201c5202e1eb",
   "metadata": {},
   "outputs": [
    {
     "data": {
      "text/plain": [
       "(1000, 5)"
      ]
     },
     "execution_count": 24,
     "metadata": {},
     "output_type": "execute_result"
    }
   ],
   "source": [
    "job_df = job_df.sample(n=1000, random_state = 42)\n",
    "job_df.shape"
   ]
  },
  {
   "cell_type": "code",
   "execution_count": 25,
   "id": "091d8508-ab0c-4dd8-9337-e1eeaa6ec944",
   "metadata": {},
   "outputs": [
    {
     "data": {
      "text/plain": [
       "64119                       site director knowledg univers\n",
       "35827                          administr assist officeteam\n",
       "72100                     account manag chi payment system\n",
       "46355    outsid wholesal sale rep parttim river front c...\n",
       "34166    custom servic rep help peopl hear loss captioncal\n",
       "                               ...                        \n",
       "66282    sale repres sale associ entri level vector market\n",
       "39515                             staff account accountemp\n",
       "69231                    unarm secur offic us secur associ\n",
       "69618              line cook crown plaza independ own oper\n",
       "6144     kitchen manag job detail artesian hotel casino...\n",
       "Name: Title, Length: 1000, dtype: object"
      ]
     },
     "execution_count": 25,
     "metadata": {},
     "output_type": "execute_result"
    }
   ],
   "source": [
    "job_df['Title'].apply(lambda x: cleaning(x))"
   ]
  },
  {
   "cell_type": "code",
   "execution_count": 26,
   "id": "cf59e83c-3452-42f1-8ac7-4ec80c33068a",
   "metadata": {},
   "outputs": [],
   "source": [
    "job_df['Title'] = job_df['Title'].astype(str).apply(lambda x: cleaning(x))\n",
    "job_df['Job.Description'] = job_df['Job.Description'].astype(str).apply(lambda x: cleaning(x))"
   ]
  },
  {
   "cell_type": "markdown",
   "id": "34dfd34b-b8f5-4818-919c-34cd830aa602",
   "metadata": {},
   "source": [
    "#### The code cleans the text in the 'Title' and 'Job.Description' columns of the job_df DataFrame by:\n",
    "\n",
    "1. Converting values to strings using .astype(str).\n",
    "2. Applying a custom cleaning function to each value using .apply(lambda x: cleaning(x)).\n",
    "This process ensures both columns are preprocessed uniformly, typically for tasks like removing punctuation, lowercasing, or other text cleaning operations as defined in the cleaning function.\n",
    "\n",
    "\n",
    "\n",
    "\n",
    "\n",
    "\n"
   ]
  },
  {
   "cell_type": "code",
   "execution_count": 27,
   "id": "f80f9723-83f2-4261-a8c9-5e96b0b07ec1",
   "metadata": {},
   "outputs": [
    {
     "data": {
      "text/plain": [
       "64119                       site director knowledg univers\n",
       "35827                          administr assist officeteam\n",
       "72100                     account manag chi payment system\n",
       "46355    outsid wholesal sale rep parttim river front c...\n",
       "34166    custom servic rep help peopl hear loss captioncal\n",
       "                               ...                        \n",
       "66282    sale repres sale associ entri level vector market\n",
       "39515                             staff account accountemp\n",
       "69231                    unarm secur offic us secur associ\n",
       "69618              line cook crown plaza independ own oper\n",
       "6144     kitchen manag job detail artesian hotel casino...\n",
       "Name: Title, Length: 1000, dtype: object"
      ]
     },
     "execution_count": 27,
     "metadata": {},
     "output_type": "execute_result"
    }
   ],
   "source": [
    "job_df['Title']"
   ]
  },
  {
   "cell_type": "code",
   "execution_count": 28,
   "id": "86b318e0-a3b9-4302-8f3c-ed733ba96a96",
   "metadata": {},
   "outputs": [
    {
     "data": {
      "text/plain": [
       "'job summari knowledg univers ku site director site leader inspir children teacher alik learn grow passion educ excel confid teach children adult use nation recogn curriculum framework creat uniqu engag classroom experi commit make site success know meaning relationship children famili team import success fulli engag enthusiast work eager share knowledg other job respons essenti function basic expect site director cours creativ new way meet exceed expect encourag long requir essenti function also met supervis children staff record keep licens record child file lesson plan implement mainten safe welcom classroom environ build relationship commun school recruit new student program applic must strong organiz skill'"
      ]
     },
     "execution_count": 28,
     "metadata": {},
     "output_type": "execute_result"
    }
   ],
   "source": [
    "job_df['Job.Description'][64119]"
   ]
  },
  {
   "cell_type": "code",
   "execution_count": 29,
   "id": "77b07f4c-f42a-4b05-a68e-34a6c838e259",
   "metadata": {},
   "outputs": [],
   "source": [
    "job_df['new_col'] = job_df['Title'] + \" \" + job_df['Job.Description']"
   ]
  },
  {
   "cell_type": "code",
   "execution_count": 30,
   "id": "47b95e98-b741-4e1d-9c5d-70e0dc6d461c",
   "metadata": {},
   "outputs": [
    {
     "data": {
      "text/html": [
       "<div>\n",
       "<style scoped>\n",
       "    .dataframe tbody tr th:only-of-type {\n",
       "        vertical-align: middle;\n",
       "    }\n",
       "\n",
       "    .dataframe tbody tr th {\n",
       "        vertical-align: top;\n",
       "    }\n",
       "\n",
       "    .dataframe thead th {\n",
       "        text-align: right;\n",
       "    }\n",
       "</style>\n",
       "<table border=\"1\" class=\"dataframe\">\n",
       "  <thead>\n",
       "    <tr style=\"text-align: right;\">\n",
       "      <th></th>\n",
       "      <th>Status</th>\n",
       "      <th>Title</th>\n",
       "      <th>Position</th>\n",
       "      <th>Company</th>\n",
       "      <th>Job.Description</th>\n",
       "      <th>new_col</th>\n",
       "    </tr>\n",
       "  </thead>\n",
       "  <tbody>\n",
       "    <tr>\n",
       "      <th>64119</th>\n",
       "      <td>open</td>\n",
       "      <td>site director knowledg univers</td>\n",
       "      <td>Site Director</td>\n",
       "      <td>Knowledge Universe</td>\n",
       "      <td>job summari knowledg univers ku site director ...</td>\n",
       "      <td>site director knowledg univers job summari kno...</td>\n",
       "    </tr>\n",
       "    <tr>\n",
       "      <th>35827</th>\n",
       "      <td>open</td>\n",
       "      <td>administr assist officeteam</td>\n",
       "      <td>Administrative Assistant</td>\n",
       "      <td>OfficeTeam</td>\n",
       "      <td>ref id 03110118480classif secretaryadmin asstc...</td>\n",
       "      <td>administr assist officeteam ref id 03110118480...</td>\n",
       "    </tr>\n",
       "    <tr>\n",
       "      <th>72100</th>\n",
       "      <td>open</td>\n",
       "      <td>account manag chi payment system</td>\n",
       "      <td>Account Manager</td>\n",
       "      <td>CHI Payment Systems</td>\n",
       "      <td>yoursquor energet motiv hardwork look prosper ...</td>\n",
       "      <td>account manag chi payment system yoursquor ene...</td>\n",
       "    </tr>\n",
       "  </tbody>\n",
       "</table>\n",
       "</div>"
      ],
      "text/plain": [
       "      Status                             Title                  Position  \\\n",
       "64119   open    site director knowledg univers             Site Director   \n",
       "35827   open       administr assist officeteam  Administrative Assistant   \n",
       "72100   open  account manag chi payment system           Account Manager   \n",
       "\n",
       "                   Company                                    Job.Description  \\\n",
       "64119   Knowledge Universe  job summari knowledg univers ku site director ...   \n",
       "35827           OfficeTeam  ref id 03110118480classif secretaryadmin asstc...   \n",
       "72100  CHI Payment Systems  yoursquor energet motiv hardwork look prosper ...   \n",
       "\n",
       "                                                 new_col  \n",
       "64119  site director knowledg univers job summari kno...  \n",
       "35827  administr assist officeteam ref id 03110118480...  \n",
       "72100  account manag chi payment system yoursquor ene...  "
      ]
     },
     "execution_count": 30,
     "metadata": {},
     "output_type": "execute_result"
    }
   ],
   "source": [
    "job_df.head(3)"
   ]
  },
  {
   "cell_type": "markdown",
   "id": "38d14440-32ad-489e-9aaa-4c3d5ea10892",
   "metadata": {},
   "source": [
    "# Natural Language Processing"
   ]
  },
  {
   "cell_type": "markdown",
   "id": "c5385cdf-6aa2-409c-82de-2116986aa0d2",
   "metadata": {},
   "source": [
    "# vectorization"
   ]
  },
  {
   "cell_type": "markdown",
   "id": "cc31c1df-776c-4603-93d8-35891e1f4cba",
   "metadata": {},
   "source": [
    "#### TfidfVectorizer: Converts text into numerical vectors using TF-IDF, which is useful for processing text data for machine learning or NLP.\n",
    "cosine_similarity: Measures the similarity between text documents (or their vector representations) based on their content, useful for identifying related documents or clustering similar items."
   ]
  },
  {
   "cell_type": "code",
   "execution_count": 31,
   "id": "48a5ecac-f1c1-4c24-acea-2f1caefd8d32",
   "metadata": {},
   "outputs": [],
   "source": [
    "from sklearn.feature_extraction.text import TfidfVectorizer\n",
    "from sklearn.metrics.pairwise import cosine_similarity"
   ]
  },
  {
   "cell_type": "code",
   "execution_count": 32,
   "id": "1a9ad0a4-f2bd-48a2-ad8b-37e019657a3e",
   "metadata": {},
   "outputs": [],
   "source": [
    "tfidf = TfidfVectorizer(stop_words='english')\n",
    "matrix = tfidf.fit_transform(job_df['new_col'])\n",
    "similarity = cosine_similarity(matrix)"
   ]
  },
  {
   "cell_type": "markdown",
   "id": "fb9ca136-a292-4b5c-a91d-d0f696f33cd2",
   "metadata": {},
   "source": [
    "#### Step 1: Convert the text data from the new_col column of job_df into numerical vectors using the TF-IDF method.\n",
    "#### Step 2: Compute the cosine similarity between each pair of documents in the new_col column to measure how similar they are."
   ]
  },
  {
   "cell_type": "code",
   "execution_count": 33,
   "id": "95ffaa99-27f7-4a18-9be6-25213f299d52",
   "metadata": {},
   "outputs": [
    {
     "data": {
      "text/plain": [
       "array([[1.        , 0.04466151, 0.02193005, ..., 0.05658977, 0.02584512,\n",
       "        0.08124254],\n",
       "       [0.04466151, 1.        , 0.02996055, ..., 0.03590061, 0.00568821,\n",
       "        0.0259882 ],\n",
       "       [0.02193005, 0.02996055, 1.        , ..., 0.05656006, 0.02807874,\n",
       "        0.04050679],\n",
       "       ...,\n",
       "       [0.05658977, 0.03590061, 0.05656006, ..., 1.        , 0.06369181,\n",
       "        0.11336692],\n",
       "       [0.02584512, 0.00568821, 0.02807874, ..., 0.06369181, 1.        ,\n",
       "        0.38689315],\n",
       "       [0.08124254, 0.0259882 , 0.04050679, ..., 0.11336692, 0.38689315,\n",
       "        1.        ]])"
      ]
     },
     "execution_count": 33,
     "metadata": {},
     "output_type": "execute_result"
    }
   ],
   "source": [
    "similarity"
   ]
  },
  {
   "cell_type": "code",
   "execution_count": 34,
   "id": "357587f5-2316-44d1-8965-751377003571",
   "metadata": {},
   "outputs": [
    {
     "data": {
      "text/plain": [
       "<enumerate at 0x23f5c5ca250>"
      ]
     },
     "execution_count": 34,
     "metadata": {},
     "output_type": "execute_result"
    }
   ],
   "source": [
    "enumerate(similarity[0])"
   ]
  },
  {
   "cell_type": "markdown",
   "id": "e982dca3-bb88-4b62-806e-c00b21ac5846",
   "metadata": {},
   "source": [
    "# Recommendation System"
   ]
  },
  {
   "cell_type": "code",
   "execution_count": 35,
   "id": "29803db2-9f0d-4ba6-8d35-6dbc5f04d9ab",
   "metadata": {},
   "outputs": [],
   "source": [
    "def recommend(title):\n",
    "\n",
    "        indx = job_df[job_df['Title'] == title].index[0]\n",
    "        indx = job_df.index.get_loc(indx)\n",
    "        distances = sorted(list(enumerate(similarity[indx])), key=lambda x: x[1], reverse=True)[1:20]\n",
    "\n",
    "        jobs = []\n",
    "        for i in distances:\n",
    "            jobs.append(job_df.iloc[i[0]].Title)\n",
    "        return jobs\n",
    "        "
   ]
  },
  {
   "cell_type": "markdown",
   "id": "d4867762-0247-47b1-8789-cb6ddfbc9231",
   "metadata": {},
   "source": [
    "# This code defines a function `recommend(title)` that provides job recommendations based on a given job title. Here's an explanation of each part of the code:\n",
    "\n",
    " 1. **`indx = job_df[job_df['Title'] == title].index[0]`**:\n",
    "   - This line finds the index of the job with the given `title` in the DataFrame `job_df` (assumed to be a pandas DataFrame containing job information, including a 'Title' column).\n",
    "   - `job_df['Title'] == title` creates a boolean Series where the value is `True` if the job title matches the `title` parameter.\n",
    "   - `.index[0]` retrieves the index of the first match.\n",
    "\n",
    "2. **`indx = job_df.index.get_loc(indx)`**:\n",
    "   - This converts the index `indx` into a positional index, which may be useful if the DataFrame is not ordered sequentially.\n",
    "\n",
    "3. **`distances = sorted(list(enumerate(similarity[indx])), key=lambda x: x[1], reverse=True)[1:20]`**:\n",
    "   - `similarity[indx]` is assumed to be a list or array representing the similarity scores of all job titles relative to the job at `indx`.\n",
    "   - `enumerate(similarity[indx])` creates an iterable of index-value pairs from the `similarity` list/array, where each pair represents the index of another job and its similarity score to the job at `indx`.\n",
    "   - `sorted(..., key=lambda x: x[1], reverse=True)` sorts these pairs by the similarity score (second element of the tuple) in descending order (so the most similar jobs come first).\n",
    "   - `[1:20]` slices the sorted list to exclude the first item (which is the job itself) and keeps the top 19 most similar jobs.\n",
    "\n",
    "4. **`jobs = []`**:\n",
    "   - Initializes an empty list to store the recommended job titles.\n",
    "\n",
    "5. **`for i in distances:`**:\n",
    "   - Loops through the top 19 most similar jobs.\n",
    "\n",
    "6. **`jobs.append(job_df.iloc[i[0]].Title)`**:\n",
    "   - For each item in `distances`, `i[0]` represents the index of a recommended job.\n",
    "   - `job_df.iloc[i[0]]` retrieves the job row from `job_df`, and `.Title` extracts the job title.\n",
    "   - The job title is appended to the `jobs` list.\n",
    "\n",
    "7. **`return jobs`**:\n",
    "   - Returns the list of recommended job titles.\n",
    "\n",
    "In summary, this function takes a job title as input, finds the most similar jobs from a precomputed similarity matrix, and returns the titles of the top 19 most similar jobs."
   ]
  },
  {
   "cell_type": "code",
   "execution_count": 36,
   "id": "0faf535f-ad1f-45c1-9014-c6d7b86c15fe",
   "metadata": {},
   "outputs": [
    {
     "data": {
      "text/plain": [
       "['site director knowledg univers educ llc',\n",
       " 'teacher knowledg univers',\n",
       " 'assist teacher knowledg univers',\n",
       " 'assist teacher knowledg univers',\n",
       " 'cook knowledg univers',\n",
       " 'immedi open assist teacher la petit academi',\n",
       " 'summer school age assist children courtyard',\n",
       " 'hvac instructor vatterott educ center',\n",
       " 'temporari coordin site oper macyscom maci',\n",
       " 'medic offic assist instructor concord career colleg inc',\n",
       " 'fellowship program coordin connecticut children medic center',\n",
       " 'pharmaci adjunct instructor brown macki colleg',\n",
       " 'youth camp residenti assist activ coordin new york ny el educ servic',\n",
       " 'design bed sell specialist full timepart time bloomingdal mall short hill nj maci',\n",
       " 'secur offic 100000 job coalit securita usa',\n",
       " 'secur offic regular securita usa',\n",
       " 'handbag sell specialist part time bloomingdal chevi chase md bloomingdal',\n",
       " 'men design sell specialist full timepart time bloomingdal newport beach ca bloomingdal',\n",
       " 'women shoe sale profession part time bloomingdal 59th street nyc maci']"
      ]
     },
     "execution_count": 36,
     "metadata": {},
     "output_type": "execute_result"
    }
   ],
   "source": [
    "recommend('site director knowledg univers')"
   ]
  },
  {
   "cell_type": "code",
   "execution_count": 37,
   "id": "4dd4f2f0-bb95-4119-8130-733c62fe10b7",
   "metadata": {},
   "outputs": [],
   "source": [
    "import pickle\n",
    "pickle.dump(job_df,open('job_df.pkl','wb'))\n",
    "pickle.dump(similarity,open('similarity.pkl','wb'))"
   ]
  },
  {
   "cell_type": "code",
   "execution_count": null,
   "id": "e9d2a454-6af9-4af7-aabf-17a7aad59408",
   "metadata": {},
   "outputs": [],
   "source": [
    "#The code saves two objects (job_df and similarity) to disk as pickle files. \n",
    "#These files (job_df.pkl and similarity.pkl) can later be loaded back into memory using pickle.load(). \n",
    "#This process is useful for persisting data that you want to use later without needing to recompute or reload it each time."
   ]
  },
  {
   "cell_type": "code",
   "execution_count": 38,
   "id": "b9073eae-7f81-4b35-8714-be587de6dcbc",
   "metadata": {},
   "outputs": [
    {
     "name": "stdout",
     "output_type": "stream",
     "text": [
      "C:\\Users\\vnav2\n"
     ]
    }
   ],
   "source": [
    "import os\n",
    "print(os.getcwd())\n"
   ]
  },
  {
   "cell_type": "code",
   "execution_count": 39,
   "id": "c88e99ed-cac0-464e-ae09-35bc35432c9e",
   "metadata": {},
   "outputs": [
    {
     "name": "stdout",
     "output_type": "stream",
     "text": [
      "2.1.4\n"
     ]
    }
   ],
   "source": [
    "import pandas as pd\n",
    "print(pd.__version__)\n"
   ]
  },
  {
   "cell_type": "code",
   "execution_count": null,
   "id": "f36d4f87-b65d-4bbb-9d0c-db567206170e",
   "metadata": {},
   "outputs": [],
   "source": []
  },
  {
   "cell_type": "code",
   "execution_count": null,
   "id": "8e35eef5-29dc-4bd0-91bb-d38f39c265d3",
   "metadata": {},
   "outputs": [],
   "source": [
    "# One can run same code in Py charm for better result."
   ]
  },
  {
   "cell_type": "code",
   "execution_count": 40,
   "id": "6a31e4c1-61fe-4954-84c4-9cbd28a988a6",
   "metadata": {},
   "outputs": [
    {
     "name": "stdout",
     "output_type": "stream",
     "text": [
      "Requirement already satisfied: streamlit in c:\\users\\vnav2\\anaconda3\\lib\\site-packages (1.30.0)\n",
      "Requirement already satisfied: altair<6,>=4.0 in c:\\users\\vnav2\\anaconda3\\lib\\site-packages (from streamlit) (5.0.1)\n",
      "Requirement already satisfied: blinker<2,>=1.0.0 in c:\\users\\vnav2\\anaconda3\\lib\\site-packages (from streamlit) (1.6.2)\n",
      "Requirement already satisfied: cachetools<6,>=4.0 in c:\\users\\vnav2\\anaconda3\\lib\\site-packages (from streamlit) (4.2.2)\n",
      "Requirement already satisfied: click<9,>=7.0 in c:\\users\\vnav2\\anaconda3\\lib\\site-packages (from streamlit) (8.1.7)\n",
      "Requirement already satisfied: importlib-metadata<8,>=1.4 in c:\\users\\vnav2\\anaconda3\\lib\\site-packages (from streamlit) (7.0.1)\n",
      "Requirement already satisfied: numpy<2,>=1.19.3 in c:\\users\\vnav2\\anaconda3\\lib\\site-packages (from streamlit) (1.26.4)\n",
      "Requirement already satisfied: packaging<24,>=16.8 in c:\\users\\vnav2\\anaconda3\\lib\\site-packages (from streamlit) (23.1)\n",
      "Requirement already satisfied: pandas<3,>=1.3.0 in c:\\users\\vnav2\\anaconda3\\lib\\site-packages (from streamlit) (2.1.4)\n",
      "Requirement already satisfied: pillow<11,>=7.1.0 in c:\\users\\vnav2\\anaconda3\\lib\\site-packages (from streamlit) (10.2.0)\n",
      "Requirement already satisfied: protobuf<5,>=3.20 in c:\\users\\vnav2\\anaconda3\\lib\\site-packages (from streamlit) (3.20.3)\n",
      "Requirement already satisfied: pyarrow>=6.0 in c:\\users\\vnav2\\anaconda3\\lib\\site-packages (from streamlit) (14.0.2)\n",
      "Requirement already satisfied: python-dateutil<3,>=2.7.3 in c:\\users\\vnav2\\anaconda3\\lib\\site-packages (from streamlit) (2.8.2)\n",
      "Requirement already satisfied: requests<3,>=2.27 in c:\\users\\vnav2\\anaconda3\\lib\\site-packages (from streamlit) (2.31.0)\n",
      "Requirement already satisfied: rich<14,>=10.14.0 in c:\\users\\vnav2\\anaconda3\\lib\\site-packages (from streamlit) (13.3.5)\n",
      "Requirement already satisfied: tenacity<9,>=8.1.0 in c:\\users\\vnav2\\anaconda3\\lib\\site-packages (from streamlit) (8.2.2)\n",
      "Requirement already satisfied: toml<2,>=0.10.1 in c:\\users\\vnav2\\anaconda3\\lib\\site-packages (from streamlit) (0.10.2)\n",
      "Requirement already satisfied: typing-extensions<5,>=4.3.0 in c:\\users\\vnav2\\anaconda3\\lib\\site-packages (from streamlit) (4.9.0)\n",
      "Requirement already satisfied: tzlocal<6,>=1.1 in c:\\users\\vnav2\\anaconda3\\lib\\site-packages (from streamlit) (2.1)\n",
      "Requirement already satisfied: validators<1,>=0.2 in c:\\users\\vnav2\\anaconda3\\lib\\site-packages (from streamlit) (0.18.2)\n",
      "Requirement already satisfied: gitpython!=3.1.19,<4,>=3.0.7 in c:\\users\\vnav2\\anaconda3\\lib\\site-packages (from streamlit) (3.1.37)\n",
      "Requirement already satisfied: pydeck<1,>=0.8.0b4 in c:\\users\\vnav2\\anaconda3\\lib\\site-packages (from streamlit) (0.8.0)\n",
      "Requirement already satisfied: tornado<7,>=6.0.3 in c:\\users\\vnav2\\anaconda3\\lib\\site-packages (from streamlit) (6.3.3)\n",
      "Requirement already satisfied: watchdog>=2.1.5 in c:\\users\\vnav2\\anaconda3\\lib\\site-packages (from streamlit) (2.1.6)\n",
      "Requirement already satisfied: jinja2 in c:\\users\\vnav2\\anaconda3\\lib\\site-packages (from altair<6,>=4.0->streamlit) (3.1.3)\n",
      "Requirement already satisfied: jsonschema>=3.0 in c:\\users\\vnav2\\anaconda3\\lib\\site-packages (from altair<6,>=4.0->streamlit) (4.19.2)\n",
      "Requirement already satisfied: toolz in c:\\users\\vnav2\\anaconda3\\lib\\site-packages (from altair<6,>=4.0->streamlit) (0.12.0)\n",
      "Requirement already satisfied: colorama in c:\\users\\vnav2\\anaconda3\\lib\\site-packages (from click<9,>=7.0->streamlit) (0.4.6)\n",
      "Requirement already satisfied: gitdb<5,>=4.0.1 in c:\\users\\vnav2\\anaconda3\\lib\\site-packages (from gitpython!=3.1.19,<4,>=3.0.7->streamlit) (4.0.7)\n",
      "Requirement already satisfied: zipp>=0.5 in c:\\users\\vnav2\\anaconda3\\lib\\site-packages (from importlib-metadata<8,>=1.4->streamlit) (3.17.0)\n",
      "Requirement already satisfied: pytz>=2020.1 in c:\\users\\vnav2\\anaconda3\\lib\\site-packages (from pandas<3,>=1.3.0->streamlit) (2023.3.post1)\n",
      "Requirement already satisfied: tzdata>=2022.1 in c:\\users\\vnav2\\anaconda3\\lib\\site-packages (from pandas<3,>=1.3.0->streamlit) (2023.3)\n",
      "Requirement already satisfied: six>=1.5 in c:\\users\\vnav2\\anaconda3\\lib\\site-packages (from python-dateutil<3,>=2.7.3->streamlit) (1.16.0)\n",
      "Requirement already satisfied: charset-normalizer<4,>=2 in c:\\users\\vnav2\\anaconda3\\lib\\site-packages (from requests<3,>=2.27->streamlit) (2.0.4)\n",
      "Requirement already satisfied: idna<4,>=2.5 in c:\\users\\vnav2\\anaconda3\\lib\\site-packages (from requests<3,>=2.27->streamlit) (3.4)\n",
      "Requirement already satisfied: urllib3<3,>=1.21.1 in c:\\users\\vnav2\\anaconda3\\lib\\site-packages (from requests<3,>=2.27->streamlit) (2.0.7)\n",
      "Requirement already satisfied: certifi>=2017.4.17 in c:\\users\\vnav2\\anaconda3\\lib\\site-packages (from requests<3,>=2.27->streamlit) (2024.2.2)\n",
      "Requirement already satisfied: markdown-it-py<3.0.0,>=2.2.0 in c:\\users\\vnav2\\anaconda3\\lib\\site-packages (from rich<14,>=10.14.0->streamlit) (2.2.0)\n",
      "Requirement already satisfied: pygments<3.0.0,>=2.13.0 in c:\\users\\vnav2\\anaconda3\\lib\\site-packages (from rich<14,>=10.14.0->streamlit) (2.15.1)\n",
      "Requirement already satisfied: decorator>=3.4.0 in c:\\users\\vnav2\\anaconda3\\lib\\site-packages (from validators<1,>=0.2->streamlit) (5.1.1)\n",
      "Requirement already satisfied: smmap<5,>=3.0.1 in c:\\users\\vnav2\\anaconda3\\lib\\site-packages (from gitdb<5,>=4.0.1->gitpython!=3.1.19,<4,>=3.0.7->streamlit) (4.0.0)\n",
      "Requirement already satisfied: MarkupSafe>=2.0 in c:\\users\\vnav2\\anaconda3\\lib\\site-packages (from jinja2->altair<6,>=4.0->streamlit) (2.1.3)\n",
      "Requirement already satisfied: attrs>=22.2.0 in c:\\users\\vnav2\\anaconda3\\lib\\site-packages (from jsonschema>=3.0->altair<6,>=4.0->streamlit) (23.1.0)\n",
      "Requirement already satisfied: jsonschema-specifications>=2023.03.6 in c:\\users\\vnav2\\anaconda3\\lib\\site-packages (from jsonschema>=3.0->altair<6,>=4.0->streamlit) (2023.7.1)\n",
      "Requirement already satisfied: referencing>=0.28.4 in c:\\users\\vnav2\\anaconda3\\lib\\site-packages (from jsonschema>=3.0->altair<6,>=4.0->streamlit) (0.30.2)\n",
      "Requirement already satisfied: rpds-py>=0.7.1 in c:\\users\\vnav2\\anaconda3\\lib\\site-packages (from jsonschema>=3.0->altair<6,>=4.0->streamlit) (0.10.6)\n",
      "Requirement already satisfied: mdurl~=0.1 in c:\\users\\vnav2\\anaconda3\\lib\\site-packages (from markdown-it-py<3.0.0,>=2.2.0->rich<14,>=10.14.0->streamlit) (0.1.0)\n"
     ]
    }
   ],
   "source": [
    "!pip install streamlit\n"
   ]
  },
  {
   "cell_type": "code",
   "execution_count": null,
   "id": "749d453a-ff48-42ca-b1d8-7ba79ca62718",
   "metadata": {},
   "outputs": [],
   "source": []
  },
  {
   "cell_type": "code",
   "execution_count": 41,
   "id": "6866370e-6624-4eb2-95dc-ad36ec9fa0f7",
   "metadata": {},
   "outputs": [],
   "source": [
    "# Streamlit app\n",
    "st.title('Job Recommendation System')\n",
    "\n",
    "# Job search - select job title\n",
    "selected_title = st.selectbox('Search job by title', job_df['Title'])\n",
    "\n",
    "# Display job recommendations\n",
    "recommended_jobs = recommendation(selected_title)\n",
    "\n",
    "if isinstance(recommended_jobs, pd.DataFrame):\n",
    "    st.write(\"Recommended Jobs:\")\n",
    "    st.write(recommended_jobs)\n",
    "else:\n",
    "    st.write(recommended_jobs)"
   ]
  },
  {
   "cell_type": "code",
   "execution_count": 45,
   "id": "0af229e3-e77d-4f77-95cd-5dd283b3c86b",
   "metadata": {},
   "outputs": [
    {
     "data": {
      "text/plain": [
       "CompletedProcess(args=['streamlit', 'run', 'app.py'], returncode=1)"
      ]
     },
     "execution_count": 45,
     "metadata": {},
     "output_type": "execute_result"
    }
   ],
   "source": [
    "import subprocess\n",
    "\n",
    "# Run the Streamlit app in a subprocess\n",
    "subprocess.run([\"streamlit\", \"run\", \"app.py\"])\n"
   ]
  },
  {
   "cell_type": "code",
   "execution_count": 46,
   "id": "e1f10444-e914-4355-9d76-ae235c722fa7",
   "metadata": {},
   "outputs": [
    {
     "name": "stdout",
     "output_type": "stream",
     "text": [
      "Writing app.py\n"
     ]
    }
   ],
   "source": [
    "%%writefile app.py\n",
    "import streamlit as st\n",
    "import pandas as pd\n",
    "\n",
    "# Load your dataset (you can modify this to your dataset path)\n",
    "job_df = pd.read_csv(r\"C:\\Users\\vnav2\\OneDrive\\Desktop\\Combined_Jobs_Final.csv\")  # replace 'your_dataset.csv' with your dataset path\n",
    "\n",
    "st.title('Job Recommendation System')\n",
    "\n",
    "# Job search - select job title\n",
    "selected_title = st.selectbox('Search job by title', job_df['Title'].unique())\n",
    "\n",
    "def recommendation(title):\n",
    "    recommended_jobs = job_df[job_df['Title'].str.contains(title, case=False, na=False)]\n",
    "    if not recommended_jobs.empty:\n",
    "        return recommended_jobs\n",
    "    else:\n",
    "        return \"No job recommendations found.\"\n",
    "\n",
    "# Display job recommendations\n",
    "recommended_jobs = recommendation(selected_title)\n",
    "\n",
    "if isinstance(recommended_jobs, pd.DataFrame):\n",
    "    st.write(\"Recommended Jobs:\")\n",
    "    st.write(recommended_jobs[['Title', 'Company', 'Location', 'Salary']])\n",
    "else:\n",
    "    st.write(recommended_jobs)\n"
   ]
  },
  {
   "cell_type": "code",
   "execution_count": 48,
   "id": "86188e45-fcf5-43c5-b5da-bc31406d9fd8",
   "metadata": {},
   "outputs": [
    {
     "data": {
      "text/plain": [
       "True"
      ]
     },
     "execution_count": 48,
     "metadata": {},
     "output_type": "execute_result"
    }
   ],
   "source": [
    "import subprocess\n",
    "import time\n",
    "import webbrowser\n",
    "\n",
    "# Run Streamlit app in subprocess\n",
    "subprocess.Popen([\"streamlit\", \"run\", \"app.py\"])\n",
    "\n",
    "# Wait for Streamlit to start\n",
    "time.sleep(5)\n",
    "\n",
    "# Open the app in the default web browser\n",
    "webbrowser.open(\"http://localhost:8501\")\n"
   ]
  },
  {
   "cell_type": "code",
   "execution_count": 57,
   "id": "149cae5f-bbe6-4f91-a032-85f8f9263a28",
   "metadata": {},
   "outputs": [
    {
     "name": "stderr",
     "output_type": "stream",
     "text": [
      "Traceback (most recent call last):\n",
      "  File \"C:\\Users\\vnav2\\anaconda3\\Scripts\\streamlit-script.py\", line 6, in <module>\n",
      "    from streamlit.cli import main\n",
      "ModuleNotFoundError: No module named 'streamlit.cli'\n"
     ]
    }
   ],
   "source": [
    "!streamlit run \"C:/Users/vnav2/PycharmProjects/pythonProject1/Job Recommendation system app.py\"\n",
    "\n",
    "# streamlit run \"C:\\Users\\vnav2\\PycharmProjects\\pythonProject1\\Job Recommendation system app.py\n",
    "# use above link in py charm terminal and you can see result"
   ]
  }
 ],
 "metadata": {
  "kernelspec": {
   "display_name": "Python 3 (ipykernel)",
   "language": "python",
   "name": "python3"
  },
  "language_info": {
   "codemirror_mode": {
    "name": "ipython",
    "version": 3
   },
   "file_extension": ".py",
   "mimetype": "text/x-python",
   "name": "python",
   "nbconvert_exporter": "python",
   "pygments_lexer": "ipython3",
   "version": "3.11.7"
  }
 },
 "nbformat": 4,
 "nbformat_minor": 5
}
